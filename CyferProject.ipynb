{
  "nbformat": 4,
  "nbformat_minor": 0,
  "metadata": {
    "colab": {
      "name": "CyferProject.ipynb",
      "provenance": [],
      "collapsed_sections": [],
      "include_colab_link": true
    },
    "kernelspec": {
      "name": "python3",
      "display_name": "Python 3"
    },
    "language_info": {
      "name": "python"
    }
  },
  "cells": [
    {
      "cell_type": "markdown",
      "metadata": {
        "id": "view-in-github",
        "colab_type": "text"
      },
      "source": [
        "<a href=\"https://colab.research.google.com/github/afikziv/Cyfer/blob/main/CyferProject.ipynb\" target=\"_parent\"><img src=\"https://colab.research.google.com/assets/colab-badge.svg\" alt=\"Open In Colab\"/></a>"
      ]
    },
    {
      "cell_type": "code",
      "metadata": {
        "colab": {
          "base_uri": "https://localhost:8080/"
        },
        "id": "VoQQM9EuFYHn",
        "outputId": "d804b922-b6df-429a-8e10-23c246a5b57f"
      },
      "source": [
        "from google.colab import files, drive\n",
        "drive.mount('/content/drive')"
      ],
      "execution_count": null,
      "outputs": [
        {
          "output_type": "stream",
          "text": [
            "Mounted at /content/drive\n"
          ],
          "name": "stdout"
        }
      ]
    },
    {
      "cell_type": "code",
      "metadata": {
        "id": "AtnhmtL2FqQG"
      },
      "source": [
        "!cd drive"
      ],
      "execution_count": null,
      "outputs": []
    },
    {
      "cell_type": "code",
      "metadata": {
        "colab": {
          "base_uri": "https://localhost:8080/"
        },
        "id": "UjzROeBhFrVt",
        "outputId": "f96fb74c-8089-4101-b917-efc8fb786a98"
      },
      "source": [
        "!ls drive"
      ],
      "execution_count": null,
      "outputs": [
        {
          "output_type": "stream",
          "text": [
            "MyDrive\n"
          ],
          "name": "stdout"
        }
      ]
    },
    {
      "cell_type": "code",
      "metadata": {
        "colab": {
          "base_uri": "https://localhost:8080/"
        },
        "id": "uaxIM7ZqFvRg",
        "outputId": "0c26acd7-5068-4b13-a932-7a86481bdfe9"
      },
      "source": [
        "!ls drive/MyDrive/bert_model"
      ],
      "execution_count": null,
      "outputs": [
        {
          "output_type": "stream",
          "text": [
            "bert_model.zip\n"
          ],
          "name": "stdout"
        }
      ]
    },
    {
      "cell_type": "code",
      "metadata": {
        "id": "6PpwaMx0MxTM"
      },
      "source": [
        "import zipfile\n",
        "import io\n",
        "data = zipfile.ZipFile(('drive/MyDrive/bert_model/bert_model.zip'), 'r')\n",
        "data.extractall()"
      ],
      "execution_count": null,
      "outputs": []
    },
    {
      "cell_type": "code",
      "metadata": {
        "colab": {
          "base_uri": "https://localhost:8080/"
        },
        "id": "YYsJRctDNpDs",
        "outputId": "d7879451-1580-4d83-8c65-a2a3ed3100b1"
      },
      "source": [
        "data.printdir()"
      ],
      "execution_count": null,
      "outputs": [
        {
          "output_type": "stream",
          "text": [
            "File Name                                             Modified             Size\n",
            "bert_model/                                    2021-01-17 19:29:34            0\n",
            "bert_model/config.json                         2021-01-17 19:29:34          588\n",
            "bert_model/pytorch_model.bin                   2021-01-17 19:29:34    440471924\n",
            "bert_model/tokenizer_config.json               2021-01-17 19:29:34           58\n",
            "bert_model/special_tokens_map.json             2021-01-17 19:29:34          112\n",
            "bert_model/added_tokens.json                   2021-01-17 19:29:34            2\n",
            "bert_model/vocab.txt                           2021-01-17 19:29:34       231508\n"
          ],
          "name": "stdout"
        }
      ]
    },
    {
      "cell_type": "code",
      "metadata": {
        "colab": {
          "base_uri": "https://localhost:8080/"
        },
        "id": "6-pfWo3TLdRu",
        "outputId": "09ece4ed-da6a-4453-a309-34902dbd690d"
      },
      "source": [
        "!unzip /content/drive/MyDrive/bert_model/bert_model.zip"
      ],
      "execution_count": null,
      "outputs": [
        {
          "output_type": "stream",
          "text": [
            "Archive:  /content/drive/MyDrive/bert_model/bert_model.zip\n",
            "replace bert_model/config.json? [y]es, [n]o, [A]ll, [N]one, [r]ename: n\n",
            "replace bert_model/pytorch_model.bin? [y]es, [n]o, [A]ll, [N]one, [r]ename: N\n"
          ],
          "name": "stdout"
        }
      ]
    },
    {
      "cell_type": "code",
      "metadata": {
        "colab": {
          "base_uri": "https://localhost:8080/"
        },
        "id": "a0MJupQHNswY",
        "outputId": "c0b331dc-cbdb-4ae8-e54e-3baa1b37e110"
      },
      "source": [
        "!pip install transformers"
      ],
      "execution_count": null,
      "outputs": [
        {
          "output_type": "stream",
          "text": [
            "Collecting transformers\n",
            "\u001b[?25l  Downloading https://files.pythonhosted.org/packages/d5/43/cfe4ee779bbd6a678ac6a97c5a5cdeb03c35f9eaebbb9720b036680f9a2d/transformers-4.6.1-py3-none-any.whl (2.2MB)\n",
            "\u001b[K     |████████████████████████████████| 2.3MB 7.5MB/s \n",
            "\u001b[?25hRequirement already satisfied: numpy>=1.17 in /usr/local/lib/python3.7/dist-packages (from transformers) (1.19.5)\n",
            "Requirement already satisfied: importlib-metadata; python_version < \"3.8\" in /usr/local/lib/python3.7/dist-packages (from transformers) (4.0.1)\n",
            "Requirement already satisfied: packaging in /usr/local/lib/python3.7/dist-packages (from transformers) (20.9)\n",
            "Requirement already satisfied: regex!=2019.12.17 in /usr/local/lib/python3.7/dist-packages (from transformers) (2019.12.20)\n",
            "Requirement already satisfied: requests in /usr/local/lib/python3.7/dist-packages (from transformers) (2.23.0)\n",
            "Requirement already satisfied: tqdm>=4.27 in /usr/local/lib/python3.7/dist-packages (from transformers) (4.41.1)\n",
            "Collecting sacremoses\n",
            "\u001b[?25l  Downloading https://files.pythonhosted.org/packages/75/ee/67241dc87f266093c533a2d4d3d69438e57d7a90abb216fa076e7d475d4a/sacremoses-0.0.45-py3-none-any.whl (895kB)\n",
            "\u001b[K     |████████████████████████████████| 901kB 46.3MB/s \n",
            "\u001b[?25hRequirement already satisfied: filelock in /usr/local/lib/python3.7/dist-packages (from transformers) (3.0.12)\n",
            "Collecting huggingface-hub==0.0.8\n",
            "  Downloading https://files.pythonhosted.org/packages/a1/88/7b1e45720ecf59c6c6737ff332f41c955963090a18e72acbcbeac6b25e86/huggingface_hub-0.0.8-py3-none-any.whl\n",
            "Collecting tokenizers<0.11,>=0.10.1\n",
            "\u001b[?25l  Downloading https://files.pythonhosted.org/packages/d4/e2/df3543e8ffdab68f5acc73f613de9c2b155ac47f162e725dcac87c521c11/tokenizers-0.10.3-cp37-cp37m-manylinux_2_5_x86_64.manylinux1_x86_64.manylinux_2_12_x86_64.manylinux2010_x86_64.whl (3.3MB)\n",
            "\u001b[K     |████████████████████████████████| 3.3MB 42.7MB/s \n",
            "\u001b[?25hRequirement already satisfied: typing-extensions>=3.6.4; python_version < \"3.8\" in /usr/local/lib/python3.7/dist-packages (from importlib-metadata; python_version < \"3.8\"->transformers) (3.7.4.3)\n",
            "Requirement already satisfied: zipp>=0.5 in /usr/local/lib/python3.7/dist-packages (from importlib-metadata; python_version < \"3.8\"->transformers) (3.4.1)\n",
            "Requirement already satisfied: pyparsing>=2.0.2 in /usr/local/lib/python3.7/dist-packages (from packaging->transformers) (2.4.7)\n",
            "Requirement already satisfied: chardet<4,>=3.0.2 in /usr/local/lib/python3.7/dist-packages (from requests->transformers) (3.0.4)\n",
            "Requirement already satisfied: certifi>=2017.4.17 in /usr/local/lib/python3.7/dist-packages (from requests->transformers) (2020.12.5)\n",
            "Requirement already satisfied: urllib3!=1.25.0,!=1.25.1,<1.26,>=1.21.1 in /usr/local/lib/python3.7/dist-packages (from requests->transformers) (1.24.3)\n",
            "Requirement already satisfied: idna<3,>=2.5 in /usr/local/lib/python3.7/dist-packages (from requests->transformers) (2.10)\n",
            "Requirement already satisfied: joblib in /usr/local/lib/python3.7/dist-packages (from sacremoses->transformers) (1.0.1)\n",
            "Requirement already satisfied: click in /usr/local/lib/python3.7/dist-packages (from sacremoses->transformers) (7.1.2)\n",
            "Requirement already satisfied: six in /usr/local/lib/python3.7/dist-packages (from sacremoses->transformers) (1.15.0)\n",
            "Installing collected packages: sacremoses, huggingface-hub, tokenizers, transformers\n",
            "Successfully installed huggingface-hub-0.0.8 sacremoses-0.0.45 tokenizers-0.10.3 transformers-4.6.1\n"
          ],
          "name": "stdout"
        }
      ]
    },
    {
      "cell_type": "code",
      "metadata": {
        "colab": {
          "base_uri": "https://localhost:8080/"
        },
        "id": "cSNnoAvVPb1K",
        "outputId": "caa9d300-de98-4722-e0c4-27832b5e2d38"
      },
      "source": [
        "!pip install pytorch-transformers"
      ],
      "execution_count": null,
      "outputs": [
        {
          "output_type": "stream",
          "text": [
            "Requirement already satisfied: pytorch-transformers in /usr/local/lib/python3.7/dist-packages (1.2.0)\n",
            "Requirement already satisfied: requests in /usr/local/lib/python3.7/dist-packages (from pytorch-transformers) (2.23.0)\n",
            "Requirement already satisfied: sacremoses in /usr/local/lib/python3.7/dist-packages (from pytorch-transformers) (0.0.45)\n",
            "Requirement already satisfied: sentencepiece in /usr/local/lib/python3.7/dist-packages (from pytorch-transformers) (0.1.95)\n",
            "Requirement already satisfied: torch>=1.0.0 in /usr/local/lib/python3.7/dist-packages (from pytorch-transformers) (1.8.1+cu101)\n",
            "Requirement already satisfied: boto3 in /usr/local/lib/python3.7/dist-packages (from pytorch-transformers) (1.17.86)\n",
            "Requirement already satisfied: numpy in /usr/local/lib/python3.7/dist-packages (from pytorch-transformers) (1.19.5)\n",
            "Requirement already satisfied: regex in /usr/local/lib/python3.7/dist-packages (from pytorch-transformers) (2019.12.20)\n",
            "Requirement already satisfied: tqdm in /usr/local/lib/python3.7/dist-packages (from pytorch-transformers) (4.41.1)\n",
            "Requirement already satisfied: urllib3!=1.25.0,!=1.25.1,<1.26,>=1.21.1 in /usr/local/lib/python3.7/dist-packages (from requests->pytorch-transformers) (1.24.3)\n",
            "Requirement already satisfied: idna<3,>=2.5 in /usr/local/lib/python3.7/dist-packages (from requests->pytorch-transformers) (2.10)\n",
            "Requirement already satisfied: certifi>=2017.4.17 in /usr/local/lib/python3.7/dist-packages (from requests->pytorch-transformers) (2020.12.5)\n",
            "Requirement already satisfied: chardet<4,>=3.0.2 in /usr/local/lib/python3.7/dist-packages (from requests->pytorch-transformers) (3.0.4)\n",
            "Requirement already satisfied: click in /usr/local/lib/python3.7/dist-packages (from sacremoses->pytorch-transformers) (7.1.2)\n",
            "Requirement already satisfied: six in /usr/local/lib/python3.7/dist-packages (from sacremoses->pytorch-transformers) (1.15.0)\n",
            "Requirement already satisfied: joblib in /usr/local/lib/python3.7/dist-packages (from sacremoses->pytorch-transformers) (1.0.1)\n",
            "Requirement already satisfied: typing-extensions in /usr/local/lib/python3.7/dist-packages (from torch>=1.0.0->pytorch-transformers) (3.7.4.3)\n",
            "Requirement already satisfied: jmespath<1.0.0,>=0.7.1 in /usr/local/lib/python3.7/dist-packages (from boto3->pytorch-transformers) (0.10.0)\n",
            "Requirement already satisfied: botocore<1.21.0,>=1.20.86 in /usr/local/lib/python3.7/dist-packages (from boto3->pytorch-transformers) (1.20.86)\n",
            "Requirement already satisfied: s3transfer<0.5.0,>=0.4.0 in /usr/local/lib/python3.7/dist-packages (from boto3->pytorch-transformers) (0.4.2)\n",
            "Requirement already satisfied: python-dateutil<3.0.0,>=2.1 in /usr/local/lib/python3.7/dist-packages (from botocore<1.21.0,>=1.20.86->boto3->pytorch-transformers) (2.8.1)\n"
          ],
          "name": "stdout"
        }
      ]
    },
    {
      "cell_type": "code",
      "metadata": {
        "colab": {
          "base_uri": "https://localhost:8080/"
        },
        "id": "638h3h1AR_as",
        "outputId": "295e7a06-22ea-4c84-b183-a4f002dfc176"
      },
      "source": [
        "!pip install pronouncing"
      ],
      "execution_count": null,
      "outputs": [
        {
          "output_type": "stream",
          "text": [
            "Collecting pronouncing\n",
            "  Downloading https://files.pythonhosted.org/packages/7f/c6/9dc74a3ddca71c492e224116b6654592bfe5717b4a78582e4d9c3345d153/pronouncing-0.2.0.tar.gz\n",
            "Collecting cmudict>=0.4.0\n",
            "\u001b[?25l  Downloading https://files.pythonhosted.org/packages/a2/77/f009abf803286876fa99cb7bd9d1132c7b64a0b34a0360666275ce1bc733/cmudict-0.4.5-py2.py3-none-any.whl (939kB)\n",
            "\u001b[K     |████████████████████████████████| 942kB 10.6MB/s \n",
            "\u001b[?25hBuilding wheels for collected packages: pronouncing\n",
            "  Building wheel for pronouncing (setup.py) ... \u001b[?25l\u001b[?25hdone\n",
            "  Created wheel for pronouncing: filename=pronouncing-0.2.0-py2.py3-none-any.whl size=6252 sha256=76b9ca5f15167bba02eabc05df2f8927e27e3d2fbc2264fdafbccdd982bbb214\n",
            "  Stored in directory: /root/.cache/pip/wheels/81/fd/e8/fb1a226f707c7e20dbed4c43f81b819d279ffd3b0e2f06ee13\n",
            "Successfully built pronouncing\n",
            "Installing collected packages: cmudict, pronouncing\n",
            "Successfully installed cmudict-0.4.5 pronouncing-0.2.0\n"
          ],
          "name": "stdout"
        }
      ]
    },
    {
      "cell_type": "code",
      "metadata": {
        "id": "oBr5-IBZSLpc"
      },
      "source": [
        "%mkdir templates -p"
      ],
      "execution_count": null,
      "outputs": []
    },
    {
      "cell_type": "code",
      "metadata": {
        "colab": {
          "base_uri": "https://localhost:8080/"
        },
        "id": "pjewxXzqSOOk",
        "outputId": "434b4a3f-134c-4295-c946-f0c4015f6f83"
      },
      "source": [
        "%%writefile templates/index.html\n",
        "<!DOCTYPE html>\n",
        "<html lang=\"en\">\n",
        "<head>\n",
        "  <title>Rhyming with CYFER</title>\n",
        "  <meta http-equiv=\"Content-Type\" content=\"text/html; charset=utf-8\" />\n",
        "  <meta name=\"viewport\" content=\"width=device-width, initial-scale=1\">\n",
        "  <link rel=\"stylesheet\" href=\"https://maxcdn.bootstrapcdn.com/bootstrap/3.4.1/css/bootstrap.min.css\">\n",
        "  <script src=\"https://ajax.googleapis.com/ajax/libs/jquery/3.4.1/jquery.min.js\"></script>\n",
        "  <script src=\"https://maxcdn.bootstrapcdn.com/bootstrap/3.4.1/js/bootstrap.min.js\"></script>\n",
        "  <style type=\"text/css\">\n",
        "    .textbuttons {\n",
        "      text-align: center;\n",
        "    } \n",
        "    .form-control{\n",
        "      font-family: 'roboto';\n",
        "      font-size: 22px;\n",
        "    }\n",
        "    .info{\n",
        "     float: center;\n",
        "     text-align: center;\n",
        "    }\n",
        "    #out{\n",
        "     text-align: center; \n",
        "      font-family: 'roboto';\n",
        "      font-size: 20px;\n",
        "    }\n",
        "    .slidecontainer {\n",
        "      width: 10%; /* Width of the outside container */\n",
        "    }\n",
        "\n",
        "    .span{\n",
        "        float: right;\n",
        "    }\n",
        "    \n",
        "  </style>\n",
        "</head>\n",
        "<body>\n",
        "<div class=\"container\">\n",
        "  <h1 style='font-family: \"Open Sans\", sans-serif;font-weight: 400; letter-spacing: 0; line-height: 2rem;'>Rhyming with  <b><font color=\"darkyellow\">CYFER</font></b></h1>\n",
        "  <form id =\"form\">\n",
        "    <div class=\"form-group\">\n",
        "      <label for=\"comment\">Seed text:</label>  \n",
        "      <textarea id=\"name\" class=\"form-control\" rows=\"4\" ></textarea>\n",
        "     \n",
        "        <div class=\"textbuttons\">\n",
        "            <!-- <label><input type=\"radio\" name=\"domian\" value=\"open\">Open World</label>  -->\n",
        "            <label class=\"radio-inline\">Song Rhyme lyrics</label>\n",
        "            <!-- <label><input type=\"radio\" name=\"domain\" value=\"review\">Song lyrics</label> -->\n",
        "        </div>\n",
        "         <div class=\"dropdown span\">\n",
        "          <label for=\"algo\">Select Algorithm</label>\n",
        "          <select name=\"algo\" id=\"algo\">\n",
        "          <option value=\"right to left\">Right to Left</option>\n",
        "          <option value=\"random hop\">Random Hop</option>\n",
        "         </div>\n",
        "      </div>\n",
        "\n",
        "    </div> \n",
        "    <br> \n",
        "     <div class=\"textbuttons\">\n",
        "      <input type = \"submit\" name = \"submit\" value=\"Auto Rhyme\"> <!-- submit event -->\n",
        "     </div>\n",
        "     \n",
        "  \n",
        "  </form><br><br>\n",
        "\n",
        "  <div class='info'>\n",
        "     <p id=\"output\" style='font-family: \"roboto\";font-size: 18px;'></p>\n",
        "  </div><br><br>\n",
        "\n",
        "  <div>\n",
        "    \n",
        "  </div>\n",
        "  \n",
        "</div>\n",
        "\n",
        "<script type=\"text/javascript\">\n",
        "    var algoSelect;\n",
        "    \n",
        "\n",
        "    $(\".dropdown-menu li a\").click(function() {\n",
        "      $(this).parents(\".dropdown\").find('.btn').html($(this).text() + ' <span class=\"caret\"></span>');\n",
        "      $(this).parents(\".dropdown\").find('.btn').val($(this).data('value'));\n",
        "      algoSelect = $(this).text();\n",
        "    })\n",
        "\n",
        "    // domainSelect = $(\"input:checked\").val()\n",
        "\n",
        "    function autowrite(){\n",
        "      var input_txt = document.getElementById('comment').value\n",
        "      //var len = document.getElementById('len').value\n",
        "      var decoding_type = algoSelect.toLowerCase();\n",
        "\n",
        "\n",
        "      var URL = 'http://0.0.0.0:5000/autocomplete'\n",
        "      var dataString = \"text=\"+input_txt+\"&decoding_type=\"+decoding_type;\n",
        "      \n",
        "      $.ajax({\n",
        "          type: 'POST',\n",
        "          url: URL,\n",
        "          data: dataString,\n",
        "          success: function(resp) {\n",
        "            document.getElementById('output').innerHTML = resp;\n",
        "          }\n",
        "      });\n",
        "    }\n",
        "\n",
        "    $(\"#form\").submit(function (e) {\n",
        "    e.preventDefault();\n",
        "    $.ajax({\n",
        "    data: {\n",
        "    name: $(\"#name\").val(),\n",
        "    decoding_type: $(\"#algo\").val()\n",
        "    },\n",
        "    type: 'POST',\n",
        "    url: '/predict'\n",
        "    }).done(function(data) {\n",
        "    $(\"#output\").text(data[\"result\"]);});});\n",
        "\n",
        "</script>\n",
        "  \n",
        "</body>\n",
        "</html>"
      ],
      "execution_count": null,
      "outputs": [
        {
          "output_type": "stream",
          "text": [
            "Overwriting templates/index.html\n"
          ],
          "name": "stdout"
        }
      ]
    },
    {
      "cell_type": "code",
      "metadata": {
        "colab": {
          "base_uri": "https://localhost:8080/"
        },
        "id": "9_fJP1wtSYKe",
        "outputId": "8f65a378-cf46-4f70-92f9-2b0d10806e7c"
      },
      "source": [
        "!pip install flask-cors --upgrade"
      ],
      "execution_count": null,
      "outputs": [
        {
          "output_type": "stream",
          "text": [
            "Collecting flask-cors\n",
            "  Downloading https://files.pythonhosted.org/packages/db/84/901e700de86604b1c4ef4b57110d4e947c218b9997adf5d38fa7da493bce/Flask_Cors-3.0.10-py2.py3-none-any.whl\n",
            "Requirement already satisfied, skipping upgrade: Flask>=0.9 in /usr/local/lib/python3.7/dist-packages (from flask-cors) (1.1.4)\n",
            "Requirement already satisfied, skipping upgrade: Six in /usr/local/lib/python3.7/dist-packages (from flask-cors) (1.15.0)\n",
            "Requirement already satisfied, skipping upgrade: Werkzeug<2.0,>=0.15 in /usr/local/lib/python3.7/dist-packages (from Flask>=0.9->flask-cors) (1.0.1)\n",
            "Requirement already satisfied, skipping upgrade: Jinja2<3.0,>=2.10.1 in /usr/local/lib/python3.7/dist-packages (from Flask>=0.9->flask-cors) (2.11.3)\n",
            "Requirement already satisfied, skipping upgrade: itsdangerous<2.0,>=0.24 in /usr/local/lib/python3.7/dist-packages (from Flask>=0.9->flask-cors) (1.1.0)\n",
            "Requirement already satisfied, skipping upgrade: click<8.0,>=5.1 in /usr/local/lib/python3.7/dist-packages (from Flask>=0.9->flask-cors) (7.1.2)\n",
            "Requirement already satisfied, skipping upgrade: MarkupSafe>=0.23 in /usr/local/lib/python3.7/dist-packages (from Jinja2<3.0,>=2.10.1->Flask>=0.9->flask-cors) (2.0.1)\n",
            "Installing collected packages: flask-cors\n",
            "Successfully installed flask-cors-3.0.10\n"
          ],
          "name": "stdout"
        }
      ]
    },
    {
      "cell_type": "code",
      "metadata": {
        "colab": {
          "base_uri": "https://localhost:8080/"
        },
        "id": "bs0LuLrPJrIL",
        "outputId": "521feb41-ba78-4acb-fa1b-48c9fa777b07"
      },
      "source": [
        "!pip install flask-ngrok"
      ],
      "execution_count": null,
      "outputs": [
        {
          "output_type": "stream",
          "text": [
            "Collecting flask-ngrok\n",
            "  Downloading https://files.pythonhosted.org/packages/af/6c/f54cb686ad1129e27d125d182f90f52b32f284e6c8df58c1bae54fa1adbc/flask_ngrok-0.0.25-py3-none-any.whl\n",
            "Requirement already satisfied: requests in /usr/local/lib/python3.7/dist-packages (from flask-ngrok) (2.23.0)\n",
            "Requirement already satisfied: Flask>=0.8 in /usr/local/lib/python3.7/dist-packages (from flask-ngrok) (1.1.4)\n",
            "Requirement already satisfied: urllib3!=1.25.0,!=1.25.1,<1.26,>=1.21.1 in /usr/local/lib/python3.7/dist-packages (from requests->flask-ngrok) (1.24.3)\n",
            "Requirement already satisfied: certifi>=2017.4.17 in /usr/local/lib/python3.7/dist-packages (from requests->flask-ngrok) (2020.12.5)\n",
            "Requirement already satisfied: idna<3,>=2.5 in /usr/local/lib/python3.7/dist-packages (from requests->flask-ngrok) (2.10)\n",
            "Requirement already satisfied: chardet<4,>=3.0.2 in /usr/local/lib/python3.7/dist-packages (from requests->flask-ngrok) (3.0.4)\n",
            "Requirement already satisfied: itsdangerous<2.0,>=0.24 in /usr/local/lib/python3.7/dist-packages (from Flask>=0.8->flask-ngrok) (1.1.0)\n",
            "Requirement already satisfied: click<8.0,>=5.1 in /usr/local/lib/python3.7/dist-packages (from Flask>=0.8->flask-ngrok) (7.1.2)\n",
            "Requirement already satisfied: Werkzeug<2.0,>=0.15 in /usr/local/lib/python3.7/dist-packages (from Flask>=0.8->flask-ngrok) (1.0.1)\n",
            "Requirement already satisfied: Jinja2<3.0,>=2.10.1 in /usr/local/lib/python3.7/dist-packages (from Flask>=0.8->flask-ngrok) (2.11.3)\n",
            "Requirement already satisfied: MarkupSafe>=0.23 in /usr/local/lib/python3.7/dist-packages (from Jinja2<3.0,>=2.10.1->Flask>=0.8->flask-ngrok) (2.0.1)\n",
            "Installing collected packages: flask-ngrok\n",
            "Successfully installed flask-ngrok-0.0.25\n"
          ],
          "name": "stdout"
        }
      ]
    },
    {
      "cell_type": "code",
      "metadata": {
        "colab": {
          "base_uri": "https://localhost:8080/"
        },
        "id": "eXiAfJbFS4H6",
        "outputId": "af4ab78c-8a9f-42f7-87f7-752e2c19ffa5"
      },
      "source": [
        "!pip install flask-jsonpify"
      ],
      "execution_count": null,
      "outputs": [
        {
          "output_type": "stream",
          "text": [
            "Collecting flask-jsonpify\n",
            "  Downloading https://files.pythonhosted.org/packages/60/0f/c389dea3988bffbe32c1a667989914b1cc0bce31b338c8da844d5e42b503/Flask-Jsonpify-1.5.0.tar.gz\n",
            "Requirement already satisfied: Flask in /usr/local/lib/python3.7/dist-packages (from flask-jsonpify) (1.1.4)\n",
            "Requirement already satisfied: Jinja2<3.0,>=2.10.1 in /usr/local/lib/python3.7/dist-packages (from Flask->flask-jsonpify) (2.11.3)\n",
            "Requirement already satisfied: Werkzeug<2.0,>=0.15 in /usr/local/lib/python3.7/dist-packages (from Flask->flask-jsonpify) (1.0.1)\n",
            "Requirement already satisfied: click<8.0,>=5.1 in /usr/local/lib/python3.7/dist-packages (from Flask->flask-jsonpify) (7.1.2)\n",
            "Requirement already satisfied: itsdangerous<2.0,>=0.24 in /usr/local/lib/python3.7/dist-packages (from Flask->flask-jsonpify) (1.1.0)\n",
            "Requirement already satisfied: MarkupSafe>=0.23 in /usr/local/lib/python3.7/dist-packages (from Jinja2<3.0,>=2.10.1->Flask->flask-jsonpify) (2.0.1)\n",
            "Building wheels for collected packages: flask-jsonpify\n",
            "  Building wheel for flask-jsonpify (setup.py) ... \u001b[?25l\u001b[?25hdone\n",
            "  Created wheel for flask-jsonpify: filename=Flask_Jsonpify-1.5.0-cp37-none-any.whl size=3081 sha256=612a470ffe537a5a09525cf269e5164c01e5b0f16f510a062047a8461cfa7fa5\n",
            "  Stored in directory: /root/.cache/pip/wheels/ea/a9/40/ac47ad604861c1a40499042d30c22cdb7d1fa1abf426597788\n",
            "Successfully built flask-jsonpify\n",
            "Installing collected packages: flask-jsonpify\n",
            "Successfully installed flask-jsonpify-1.5.0\n"
          ],
          "name": "stdout"
        }
      ]
    },
    {
      "cell_type": "code",
      "metadata": {
        "colab": {
          "base_uri": "https://localhost:8080/"
        },
        "id": "0HLITgziSaDJ",
        "outputId": "e705e0cf-6292-4219-b884-a7b5c8d2f7d2"
      },
      "source": [
        "from flask import Flask, request\n",
        "from flask import Flask, render_template\n",
        "from flask_cors import CORS\n",
        "import torch\n",
        "import random\n",
        "import numpy as np\n",
        "from pytorch_transformers import BertTokenizer, BertForMaskedLM\n",
        "from textblob import TextBlob\n",
        "import pronouncing\n",
        "from flask_ngrok import run_with_ngrok\n",
        "from pytorch_transformers import BertTokenizer, BertForMaskedLM, BertForNextSentencePrediction\n",
        "from transformers import BertTokenizer\n",
        "from flask import jsonify\n",
        "\n",
        "app = Flask(__name__)\n",
        "CORS(app)\n",
        "run_with_ngrok(app) \n",
        "\n",
        "@app.route('/')\n",
        "def index():    \n",
        "  return render_template('index.html')\n",
        "\n",
        "#Path to the model and initiallize variables from the model.\n",
        "base_dir = 'bert_model'\n",
        "tokenizer = BertTokenizer.from_pretrained(base_dir)\n",
        "final_model = BertForNextSentencePrediction.from_pretrained(base_dir)\n",
        "model = BertForMaskedLM.from_pretrained(base_dir, output_attentions=False)\n",
        "model.eval()\n",
        "\n",
        "\n",
        "def duplicates(lst, item):\n",
        "\treturn [i for i, x in enumerate(lst) if x == item]\n",
        "\n",
        "@app.route('/predict', methods = ['POST']) # /result route\n",
        "def predict():\n",
        "  name = request.form['name']\n",
        "  decoding_type = TextBlob(request.form['decoding_type'])\n",
        "  blob = TextBlob(name)\n",
        "  sentence = \"\"\n",
        "  #sentence_orig = request.form.get('text')\n",
        "  text1 = str(blob)\n",
        "  #sentence_length = request.form.get('len')\n",
        "  sentence_length = 6\n",
        "  #decoding_type = request.form.get('decoding_type')\n",
        "\t\n",
        "  seed = random.randint(3, 5)\n",
        "\n",
        "\n",
        "  filler = ' '.join(['MASK' for _ in range(seed)])\n",
        "  text = text1.split(' ')\n",
        "\n",
        "  if len(text1.strip()) == 0:\n",
        "\t  sentence = \"[CLS] \" + \" \" + filler + \" . [SEP]\"\n",
        "  else:\n",
        "\t  sentence = \"[CLS] \" + \" \" + filler + \" [RHYME] \" + \". [SEP]\"\n",
        "\n",
        "\t# print(sentence)\n",
        "\n",
        "\t# get target word to rhyme\n",
        "  last_focus = text1.split(\" \")[-1]\n",
        "  if \"-\" in last_focus:\n",
        "\t  last_focus = last_focus.split(\"-\")[-2]\n",
        "\n",
        "\t# get list of rhyming words based on last phone sound and number of syllables\n",
        "  if len(pronouncing.phones_for_word(last_focus)) > 0:\n",
        "\n",
        "\t\t# get phone sound\n",
        "\t  phones = pronouncing.phones_for_word(last_focus)[0]\n",
        "\t\t# get number of syllables\n",
        "\t  syllables = pronouncing.syllable_count(phones)\n",
        "\t\t# get list of all rhymings\n",
        "\t  rhymings = pronouncing.rhymes(last_focus)\n",
        "\n",
        "\t\t# filter the rhymings based on last phone sound and number of syllables\n",
        "\t  rhymings_updated = [rhyming for rhyming in rhymings if\n",
        "\t\t\t\t\t\t  pronouncing.phones_for_word(rhyming)[0].split(\" \")[-1] == phones.split(\" \")[\n",
        "\t\t\t\t\t\t\t  -1] and pronouncing.syllable_count(pronouncing.phones_for_word(rhyming)[0]) == syllables]\n",
        "\n",
        "\t\t# use the target word in case no rhyming found\n",
        "\t  if len(rhymings_updated) == 0:\n",
        "\t\t  rhymings_updated = [last_focus]\n",
        "\n",
        "\t# use the target word if no phones found\n",
        "  else:\n",
        "\t  rhymings_updated = [last_focus]\n",
        "\n",
        "  outputs = []\n",
        "  sentences = []\n",
        "\n",
        "  # get all possible rhyming sequences based on the BERT masked LM\n",
        "  for rhyming in rhymings_updated[:5]:\n",
        "\t  # replace [RHYME] tag with the rhyming(s) found above\n",
        "\t  text2_r = sentence.replace(\" [RHYME] \", ' ' + rhyming)\n",
        "\n",
        "\t  tokenized_text = tokenizer.tokenize(text2_r)\n",
        "\t  idxs = duplicates(tokenized_text, 'mask')\n",
        "\t  for masked_index in idxs:\n",
        "\t\t  tokenized_text[masked_index] = \"[MASK]\"\n",
        "\t\t# print(tokenized_text)\n",
        "\t\t##### LOOP TO CREATE TEXT #####\n",
        "\t\t##### LOOP TO CREATE TEXT #####\n",
        "\t  generated = 0\n",
        "\t  full_sentence = []\n",
        "\t  while generated < seed:\n",
        "\t\t  mask_idxs = duplicates(tokenized_text, \"[MASK]\")\n",
        "\n",
        "\t\t  if decoding_type == 'right to left':\n",
        "\t\t\t  focus_mask_idx = max(mask_idxs)\n",
        "\t\t  else:\n",
        "\t\t\t  focus_mask_idx = random.choice(mask_idxs)\n",
        "\n",
        "\t\t  mask_idxs.pop(mask_idxs.index(focus_mask_idx))\n",
        "\t\t  temp_tokenized_text = tokenized_text.copy()\n",
        "\t\t  temp_tokenized_text = [j for i, j in enumerate(temp_tokenized_text) if i not in mask_idxs]\n",
        "\t\t  temp_indexed_tokens = tokenizer.convert_tokens_to_ids(temp_tokenized_text)\n",
        "\t\t  ff = [idx for idx, i in enumerate(temp_indexed_tokens) if i == 103]\n",
        "\t\t  temp_segments_ids = [0] * len(temp_tokenized_text)\n",
        "\t\t  tokens_tensor = torch.tensor([temp_indexed_tokens])\n",
        "\t\t  segments_tensors = torch.tensor([temp_segments_ids])\n",
        "\n",
        "\t\t  with torch.no_grad():\n",
        "\t\t\t  outputs = model(tokens_tensor, token_type_ids=segments_tensors)\n",
        "\t\t\t  predictions = outputs[0]\n",
        "\n",
        "\t\t\t# TOP - k Sampling\n",
        "\t\t  k = 5\n",
        "\t\t  predicted_index = random.choice(predictions[0, ff].argsort()[0][-k:]).item()\n",
        "\t\t  predicted_token = tokenizer.convert_ids_to_tokens([predicted_index])[0]\n",
        "\t\t  tokenized_text[focus_mask_idx] = predicted_token\n",
        "\t\t  generated += 1\n",
        "\n",
        "\t\t\t# print(' '.join(tokenized_text[1:-1]).replace('[ lyrics ]',''))\n",
        "\t\t\t# print(' '.join(tokenized_text[1:-1]))\n",
        "\t\t  prediction = ' '.join(tokenized_text[1:-1])\n",
        "\n",
        "\t  corrected_answer = ''\n",
        "\n",
        "\t  for word in prediction.split():\n",
        "\t\t\t# If it's a subword token\n",
        "\t\t  if word[0:2] == '##':\n",
        "\t\t\t  corrected_answer += word[2:]\n",
        "\t\t  else:\n",
        "\t\t\t  corrected_answer += ' ' + word\n",
        "\t\t# print(corrected_answer)\n",
        "\t  sentences.append(corrected_answer)\n",
        "\n",
        "  map_dict = {}\n",
        "\n",
        "  for j in range(0, len(sentences)):\n",
        "\t  right = tokenizer.encode_plus(text1, text_pair=sentences[j])\n",
        "\n",
        "\t  r1, r2, r3 = torch.tensor(right['input_ids']).unsqueeze(0), torch.tensor(right['token_type_ids']).unsqueeze(\n",
        "\t\t  0), torch.tensor(right['attention_mask']).unsqueeze(0)\n",
        "\n",
        "\t  right_outputs = final_model(input_ids=r1, token_type_ids=r2, attention_mask=r3)\n",
        "\n",
        "\t  right_seq_relationship_scores = right_outputs[0]\n",
        "\n",
        "\t  map_dict[right_seq_relationship_scores.detach().numpy().flatten()[0]] = j\n",
        "\n",
        "  final_list = []\n",
        "  for key in sorted(map_dict.keys(), reverse=True):\n",
        "\t  print(sentences[map_dict[key]])\n",
        "\t  # print(key , \" :: \" , map_dict[key])\n",
        "\t  final_list.append(sentences[map_dict[key]])\n",
        "\t#return '\\n'.join(final_list[:]).replace('\\n','<br />')\n",
        "\n",
        "  return jsonify(result = final_list)\n",
        "\n",
        "if __name__=='__main__':\n",
        "  app.debug = False\n",
        "  app.run()"
      ],
      "execution_count": null,
      "outputs": [
        {
          "output_type": "stream",
          "text": [
            " * Serving Flask app \"__main__\" (lazy loading)\n",
            " * Environment: production\n",
            "\u001b[31m   WARNING: This is a development server. Do not use it in a production deployment.\u001b[0m\n",
            "\u001b[2m   Use a production WSGI server instead.\u001b[0m\n",
            " * Debug mode: off\n"
          ],
          "name": "stdout"
        },
        {
          "output_type": "stream",
          "text": [
            " * Running on http://127.0.0.1:5000/ (Press CTRL+C to quit)\n"
          ],
          "name": "stderr"
        },
        {
          "output_type": "stream",
          "text": [
            " * Running on http://c4db35c1b29e.ngrok.io\n",
            " * Traffic stats available on http://127.0.0.1:4040\n"
          ],
          "name": "stdout"
        },
        {
          "output_type": "stream",
          "text": [
            "127.0.0.1 - - [03/Jun/2021 10:58:19] \"\u001b[37mGET / HTTP/1.1\u001b[0m\" 200 -\n",
            "127.0.0.1 - - [03/Jun/2021 10:58:20] \"\u001b[33mGET /favicon.ico HTTP/1.1\u001b[0m\" 404 -\n",
            "127.0.0.1 - - [03/Jun/2021 10:58:35] \"\u001b[37mPOST /predict HTTP/1.1\u001b[0m\" 200 -\n"
          ],
          "name": "stderr"
        },
        {
          "output_type": "stream",
          "text": [
            " ah oh oh and . .\n"
          ],
          "name": "stdout"
        },
        {
          "output_type": "stream",
          "text": [
            "127.0.0.1 - - [03/Jun/2021 10:58:38] \"\u001b[37mPOST /predict HTTP/1.1\u001b[0m\" 200 -\n"
          ],
          "name": "stderr"
        },
        {
          "output_type": "stream",
          "text": [
            " ah yes yes and .\n"
          ],
          "name": "stdout"
        },
        {
          "output_type": "stream",
          "text": [
            "127.0.0.1 - - [03/Jun/2021 10:58:40] \"\u001b[37mPOST /predict HTTP/1.1\u001b[0m\" 200 -\n"
          ],
          "name": "stderr"
        },
        {
          "output_type": "stream",
          "text": [
            " out of all but i .\n"
          ],
          "name": "stdout"
        },
        {
          "output_type": "stream",
          "text": [
            "127.0.0.1 - - [03/Jun/2021 10:58:41] \"\u001b[37mPOST /predict HTTP/1.1\u001b[0m\" 200 -\n"
          ],
          "name": "stderr"
        },
        {
          "output_type": "stream",
          "text": [
            " like . and .\n"
          ],
          "name": "stdout"
        },
        {
          "output_type": "stream",
          "text": [
            "127.0.0.1 - - [03/Jun/2021 10:58:49] \"\u001b[37mPOST /predict HTTP/1.1\u001b[0m\" 200 -\n"
          ],
          "name": "stderr"
        },
        {
          "output_type": "stream",
          "text": [
            " uh oh yeah .\n"
          ],
          "name": "stdout"
        },
        {
          "output_type": "stream",
          "text": [
            "127.0.0.1 - - [03/Jun/2021 10:58:50] \"\u001b[37mPOST /predict HTTP/1.1\u001b[0m\" 200 -\n"
          ],
          "name": "stderr"
        },
        {
          "output_type": "stream",
          "text": [
            " yeah . okay .\n"
          ],
          "name": "stdout"
        },
        {
          "output_type": "stream",
          "text": [
            "127.0.0.1 - - [03/Jun/2021 10:58:52] \"\u001b[37mPOST /predict HTTP/1.1\u001b[0m\" 200 -\n"
          ],
          "name": "stderr"
        },
        {
          "output_type": "stream",
          "text": [
            " and but oh yes i .\n"
          ],
          "name": "stdout"
        },
        {
          "output_type": "stream",
          "text": [
            "127.0.0.1 - - [03/Jun/2021 10:58:53] \"\u001b[37mPOST /predict HTTP/1.1\u001b[0m\" 200 -\n"
          ],
          "name": "stderr"
        },
        {
          "output_type": "stream",
          "text": [
            " so and and .\n"
          ],
          "name": "stdout"
        },
        {
          "output_type": "stream",
          "text": [
            "127.0.0.1 - - [03/Jun/2021 10:59:01] \"\u001b[37mPOST /predict HTTP/1.1\u001b[0m\" 200 -\n"
          ],
          "name": "stderr"
        },
        {
          "output_type": "stream",
          "text": [
            " oh donald - donald brady .\n",
            " \" ah and oh bady .\n",
            " me and mr . ady .\n",
            " i look like donald cady .\n",
            " and . . . adey .\n"
          ],
          "name": "stdout"
        }
      ]
    }
  ]
}